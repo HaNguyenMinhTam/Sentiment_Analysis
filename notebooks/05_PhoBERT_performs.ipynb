{
 "cells": [
  {
   "cell_type": "markdown",
   "id": "efef2075-4791-40bd-a7fe-e973dbfdd169",
   "metadata": {},
   "source": [
    "#### Import library"
   ]
  },
  {
   "cell_type": "code",
   "execution_count": 7,
   "id": "96dd993a-0a74-43b8-9d02-90f1d1663721",
   "metadata": {},
   "outputs": [],
   "source": [
    "import pandas as pd\n",
    "import torch\n",
    "from underthesea import word_tokenize\n",
    "from transformers import AutoTokenizer, AutoModel\n",
    "import numpy as np\n",
    "from tqdm import tqdm\n",
    "import joblib"
   ]
  },
  {
   "cell_type": "markdown",
   "id": "003fdb3d-9b61-4fae-a960-6b10026c6ba3",
   "metadata": {},
   "source": [
    "#### Load dataset"
   ]
  },
  {
   "cell_type": "code",
   "execution_count": 2,
   "id": "cba94339-75cf-44b5-ab2a-fa1912dc3ff0",
   "metadata": {},
   "outputs": [
    {
     "name": "stdout",
     "output_type": "stream",
     "text": [
      "Train: (11426, 3)\n",
      "Dev: (3166, 3)\n",
      "Test: (3166, 3)\n"
     ]
    }
   ],
   "source": [
    "train_df = pd.read_csv(\"D:/Projects/Sentiment_Analysis/data/interim/train.csv\")\n",
    "dev_df   = pd.read_csv(\"D:/Projects/Sentiment_Analysis/data/interim/dev.csv\")\n",
    "test_df  = pd.read_csv(\"D:/Projects/Sentiment_Analysis/data/interim/test.csv\")\n",
    "\n",
    "print(\"Train:\", train_df.shape)\n",
    "print(\"Dev:\", dev_df.shape)\n",
    "print(\"Test:\", test_df.shape)"
   ]
  },
  {
   "cell_type": "markdown",
   "id": "b7396085-eb14-4db9-80b1-b4bda5feb869",
   "metadata": {},
   "source": [
    "#### Load PhoBERT and Tokenize"
   ]
  },
  {
   "cell_type": "code",
   "execution_count": 3,
   "id": "dace444b-4fa3-49af-a8a2-a7e500776dcb",
   "metadata": {},
   "outputs": [
    {
     "data": {
      "text/plain": [
       "RobertaModel(\n",
       "  (embeddings): RobertaEmbeddings(\n",
       "    (word_embeddings): Embedding(64001, 768, padding_idx=1)\n",
       "    (position_embeddings): Embedding(258, 768, padding_idx=1)\n",
       "    (token_type_embeddings): Embedding(1, 768)\n",
       "    (LayerNorm): LayerNorm((768,), eps=1e-05, elementwise_affine=True)\n",
       "    (dropout): Dropout(p=0.1, inplace=False)\n",
       "  )\n",
       "  (encoder): RobertaEncoder(\n",
       "    (layer): ModuleList(\n",
       "      (0-11): 12 x RobertaLayer(\n",
       "        (attention): RobertaAttention(\n",
       "          (self): RobertaSdpaSelfAttention(\n",
       "            (query): Linear(in_features=768, out_features=768, bias=True)\n",
       "            (key): Linear(in_features=768, out_features=768, bias=True)\n",
       "            (value): Linear(in_features=768, out_features=768, bias=True)\n",
       "            (dropout): Dropout(p=0.1, inplace=False)\n",
       "          )\n",
       "          (output): RobertaSelfOutput(\n",
       "            (dense): Linear(in_features=768, out_features=768, bias=True)\n",
       "            (LayerNorm): LayerNorm((768,), eps=1e-05, elementwise_affine=True)\n",
       "            (dropout): Dropout(p=0.1, inplace=False)\n",
       "          )\n",
       "        )\n",
       "        (intermediate): RobertaIntermediate(\n",
       "          (dense): Linear(in_features=768, out_features=3072, bias=True)\n",
       "          (intermediate_act_fn): GELUActivation()\n",
       "        )\n",
       "        (output): RobertaOutput(\n",
       "          (dense): Linear(in_features=3072, out_features=768, bias=True)\n",
       "          (LayerNorm): LayerNorm((768,), eps=1e-05, elementwise_affine=True)\n",
       "          (dropout): Dropout(p=0.1, inplace=False)\n",
       "        )\n",
       "      )\n",
       "    )\n",
       "  )\n",
       "  (pooler): RobertaPooler(\n",
       "    (dense): Linear(in_features=768, out_features=768, bias=True)\n",
       "    (activation): Tanh()\n",
       "  )\n",
       ")"
      ]
     },
     "execution_count": 3,
     "metadata": {},
     "output_type": "execute_result"
    }
   ],
   "source": [
    "model_name = \"vinai/phobert-base\"\n",
    "tokenizer = AutoTokenizer.from_pretrained(model_name)\n",
    "model = AutoModel.from_pretrained(model_name)\n",
    "model.eval() "
   ]
  },
  {
   "cell_type": "markdown",
   "id": "59f89893-5132-4611-9272-a445c8c889e1",
   "metadata": {},
   "source": [
    "#### Text → Embedding Function"
   ]
  },
  {
   "cell_type": "code",
   "execution_count": 4,
   "id": "3b09bebb-f07d-4cc6-91f2-c11546517743",
   "metadata": {},
   "outputs": [],
   "source": [
    "def get_phobert_embedding(texts, batch_size=8):\n",
    "    embeddings = []\n",
    "\n",
    "    with torch.no_grad():\n",
    "        for i in tqdm(range(0, len(texts), batch_size)):\n",
    "            batch_texts = texts[i:i+batch_size]\n",
    "            encoded = tokenizer(\n",
    "                batch_texts,\n",
    "                padding=True,\n",
    "                truncation=True,\n",
    "                max_length=256,\n",
    "                return_tensors=\"pt\"\n",
    "            )\n",
    "            outputs = model(**encoded)\n",
    "            cls_embeddings = outputs.last_hidden_state[:, 0, :].numpy()\n",
    "            embeddings.append(cls_embeddings)\n",
    "    return np.vstack(embeddings)"
   ]
  },
  {
   "cell_type": "markdown",
   "id": "917a0c63-153f-4f22-8ba4-741fea5ac6d1",
   "metadata": {},
   "source": [
    "#### Create Embedding"
   ]
  },
  {
   "cell_type": "code",
   "execution_count": 5,
   "id": "72f6b11b-3dbf-4a03-8489-8c0bcd3e73dc",
   "metadata": {},
   "outputs": [
    {
     "name": "stderr",
     "output_type": "stream",
     "text": [
      "100%|██████████████████████████████████████████████████████████████████████████████| 1429/1429 [33:58<00:00,  1.43s/it]\n",
      "100%|████████████████████████████████████████████████████████████████████████████████| 396/396 [08:02<00:00,  1.22s/it]\n",
      "100%|████████████████████████████████████████████████████████████████████████████████| 396/396 [08:56<00:00,  1.36s/it]\n"
     ]
    }
   ],
   "source": [
    "X_train_pho = get_phobert_embedding(train_df[\"sentence\"].tolist())\n",
    "X_dev_pho   = get_phobert_embedding(dev_df[\"sentence\"].tolist())\n",
    "X_test_pho  = get_phobert_embedding(test_df[\"sentence\"].tolist())"
   ]
  },
  {
   "cell_type": "markdown",
   "id": "4fc48a3f-4f47-4a5a-8b88-85b980b425bc",
   "metadata": {},
   "source": [
    "#### Save data"
   ]
  },
  {
   "cell_type": "code",
   "execution_count": 10,
   "id": "8d5204cc-4d98-4eb2-9863-c696383386db",
   "metadata": {},
   "outputs": [
    {
     "name": "stdout",
     "output_type": "stream",
     "text": [
      "✅ PhoBERT embeddings đã được lưu thành công!\n"
     ]
    }
   ],
   "source": [
    "np.savez_compressed(\"D:/Projects/Sentiment_Analysis/data/features/PhoBERT/X_train_phobert.npz\", X_train_pho)\n",
    "np.savez_compressed(\"D:/Projects/Sentiment_Analysis/data/features/PhoBERT/X_dev_phobert.npz\", X_dev_pho)\n",
    "np.savez_compressed(\"D:/Projects/Sentiment_Analysis/data/features/PhoBERT/X_test_phobert.npz\", X_test_pho)\n",
    "\n",
    "joblib.dump(train_df[\"sentiment\"].values, \"D:/Projects/Sentiment_Analysis/models/PhoBERT/y_train.pkl\")\n",
    "joblib.dump(dev_df[\"sentiment\"].values, \"D:/Projects/Sentiment_Analysis/models/PhoBERT/y_dev.pkl\")\n",
    "joblib.dump(test_df[\"sentiment\"].values, \"D:/Projects/Sentiment_Analysis/models/PhoBERT/y_test.pkl\")\n",
    "\n",
    "print(\"✅ PhoBERT embeddings đã được lưu thành công!\")"
   ]
  }
 ],
 "metadata": {
  "kernelspec": {
   "display_name": "Python (sentiment_env)",
   "language": "python",
   "name": "sentiment_env"
  },
  "language_info": {
   "codemirror_mode": {
    "name": "ipython",
    "version": 3
   },
   "file_extension": ".py",
   "mimetype": "text/x-python",
   "name": "python",
   "nbconvert_exporter": "python",
   "pygments_lexer": "ipython3",
   "version": "3.10.18"
  }
 },
 "nbformat": 4,
 "nbformat_minor": 5
}
