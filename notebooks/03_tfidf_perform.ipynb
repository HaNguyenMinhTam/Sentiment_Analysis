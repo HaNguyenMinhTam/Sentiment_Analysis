{
 "cells": [
  {
   "cell_type": "markdown",
   "id": "582ed7f8-102e-4650-86db-0713681a6e0a",
   "metadata": {},
   "source": [
    "#### Import library"
   ]
  },
  {
   "cell_type": "code",
   "execution_count": 1,
   "id": "0be3e727-59af-432d-997c-6b08d3f29f06",
   "metadata": {},
   "outputs": [],
   "source": [
    "import pandas as pd\n",
    "from sklearn.feature_extraction.text import TfidfVectorizer\n",
    "import joblib\n",
    "import scipy.sparse"
   ]
  },
  {
   "cell_type": "markdown",
   "id": "40155710-6cec-4a04-b647-bbf262602ef4",
   "metadata": {},
   "source": [
    "#### Read and Show shape of data"
   ]
  },
  {
   "cell_type": "code",
   "execution_count": 2,
   "id": "eb247727-a3f9-4f5f-ab7a-6ada43719cdd",
   "metadata": {},
   "outputs": [
    {
     "name": "stdout",
     "output_type": "stream",
     "text": [
      "Train: (11426, 3)\n",
      "Dev: (3166, 3)\n",
      "Test: (3166, 3)\n"
     ]
    },
    {
     "data": {
      "text/html": [
       "<div>\n",
       "<style scoped>\n",
       "    .dataframe tbody tr th:only-of-type {\n",
       "        vertical-align: middle;\n",
       "    }\n",
       "\n",
       "    .dataframe tbody tr th {\n",
       "        vertical-align: top;\n",
       "    }\n",
       "\n",
       "    .dataframe thead th {\n",
       "        text-align: right;\n",
       "    }\n",
       "</style>\n",
       "<table border=\"1\" class=\"dataframe\">\n",
       "  <thead>\n",
       "    <tr style=\"text-align: right;\">\n",
       "      <th></th>\n",
       "      <th>sentence</th>\n",
       "      <th>sentiment</th>\n",
       "      <th>topic</th>\n",
       "    </tr>\n",
       "  </thead>\n",
       "  <tbody>\n",
       "    <tr>\n",
       "      <th>0</th>\n",
       "      <td>slide giao trinh day du</td>\n",
       "      <td>2</td>\n",
       "      <td>1</td>\n",
       "    </tr>\n",
       "    <tr>\n",
       "      <th>1</th>\n",
       "      <td>nhiet tinh giang day gan gui voi sinh vien</td>\n",
       "      <td>2</td>\n",
       "      <td>0</td>\n",
       "    </tr>\n",
       "    <tr>\n",
       "      <th>2</th>\n",
       "      <td>di hoc day du full diem chuyen can</td>\n",
       "      <td>0</td>\n",
       "      <td>1</td>\n",
       "    </tr>\n",
       "    <tr>\n",
       "      <th>3</th>\n",
       "      <td>chua ap dung cong thong va cac thiet bi ho tro...</td>\n",
       "      <td>0</td>\n",
       "      <td>0</td>\n",
       "    </tr>\n",
       "    <tr>\n",
       "      <th>4</th>\n",
       "      <td>thay giang bai co nhieu bai tap vi du tren lop</td>\n",
       "      <td>2</td>\n",
       "      <td>0</td>\n",
       "    </tr>\n",
       "  </tbody>\n",
       "</table>\n",
       "</div>"
      ],
      "text/plain": [
       "                                            sentence  sentiment  topic\n",
       "0                            slide giao trinh day du          2      1\n",
       "1         nhiet tinh giang day gan gui voi sinh vien          2      0\n",
       "2                 di hoc day du full diem chuyen can          0      1\n",
       "3  chua ap dung cong thong va cac thiet bi ho tro...          0      0\n",
       "4     thay giang bai co nhieu bai tap vi du tren lop          2      0"
      ]
     },
     "execution_count": 2,
     "metadata": {},
     "output_type": "execute_result"
    }
   ],
   "source": [
    "train_df = pd.read_csv(\"D:/Projects/Sentiment_Analysis/data/processed/train_clean.csv\")\n",
    "dev_df   = pd.read_csv(\"D:/Projects/Sentiment_Analysis/data/processed/dev_clean.csv\")\n",
    "test_df  = pd.read_csv(\"D:/Projects/Sentiment_Analysis/data/processed/test_clean.csv\")\n",
    "\n",
    "print(\"Train:\", train_df.shape)\n",
    "print(\"Dev:\", dev_df.shape)\n",
    "print(\"Test:\", test_df.shape)\n",
    "\n",
    "train_df.head()"
   ]
  },
  {
   "cell_type": "markdown",
   "id": "ee38af37-9ed8-43f1-bf35-00b4f8c69289",
   "metadata": {},
   "source": [
    "#### Prepare data (only take sentence column)"
   ]
  },
  {
   "cell_type": "code",
   "execution_count": 3,
   "id": "4527dea4-9cd5-425b-aa8f-2065afbd2a4a",
   "metadata": {},
   "outputs": [],
   "source": [
    "X_train = train_df[\"sentence\"].astype(str)\n",
    "X_dev   = dev_df[\"sentence\"].astype(str)\n",
    "X_test  = test_df[\"sentence\"].astype(str)"
   ]
  },
  {
   "cell_type": "markdown",
   "id": "fff9e5a6-dfc7-460f-812e-34d2bd46806f",
   "metadata": {},
   "source": [
    "1. Take the \"sentence\" column as input text.\n",
    "\n",
    "2. .astype(str) ensures all values ​​are strings.\n",
    "\n",
    "3. X_train is used to fit TF-IDF, X_dev & X_test are only transforms."
   ]
  },
  {
   "cell_type": "markdown",
   "id": "bb2d5abc-aa9b-4c6f-854b-4849bfdae0d4",
   "metadata": {},
   "source": [
    "#### Create TF-IDF vectorizer and learn from train data"
   ]
  },
  {
   "cell_type": "code",
   "execution_count": 4,
   "id": "98f55828-5d91-4ef3-b96a-a2f91e80bb67",
   "metadata": {},
   "outputs": [],
   "source": [
    "vectorizer = TfidfVectorizer(\n",
    "    max_features=5000,   # limit number of features\n",
    "    ngram_range=(1, 2),  # use both unigrams and bigrams\n",
    ")\n",
    "\n",
    "X_train_tfidf = vectorizer.fit_transform(X_train)\n",
    "X_dev_tfidf   = vectorizer.transform(X_dev)\n",
    "X_test_tfidf  = vectorizer.transform(X_test)"
   ]
  },
  {
   "cell_type": "markdown",
   "id": "3c6e3361-b5be-46cf-ad99-44901ce5c9d4",
   "metadata": {},
   "source": [
    "1. **TfidfVectorizer**: chuyển câu văn thành vector số, thể hiện tầm quan trọng của từ trong văn bản (TF-IDF).\n",
    "\n",
    "2. **max_features=5000**: giữ tối đa 5000 từ/ngram phổ biến nhất, tránh ma trận quá lớn.\n",
    "\n",
    "3. **ngram_range=(1,2)**:\n",
    "\n",
    "    * 1 → unigram (từ đơn, ví dụ: “tốt”)\n",
    "\n",
    "    * 2 → bigram (cụm 2 từ, ví dụ: “rất tốt”)\n",
    "\n",
    "4. **vectorizer.fit_transform(X_train)** → học từ train và tạo ma trận TF-IDF cho train.\n",
    "\n",
    "5. **vectorizer.transform(X_dev/X_test)** → tạo TF-IDF cho dev/test với vocab đã học từ train, tránh data leakage."
   ]
  },
  {
   "cell_type": "markdown",
   "id": "404842dc-de4b-4755-9074-15c0c90c1f3a",
   "metadata": {},
   "source": [
    "#### Check size "
   ]
  },
  {
   "cell_type": "code",
   "execution_count": 5,
   "id": "4c08933c-ee07-4ffb-800b-3e74f30eb59c",
   "metadata": {},
   "outputs": [
    {
     "name": "stdout",
     "output_type": "stream",
     "text": [
      "Train TF-IDF shape: (11426, 5000)\n",
      "Dev TF-IDF shape: (3166, 5000)\n",
      "Test TF-IDF shape: (3166, 5000)\n"
     ]
    }
   ],
   "source": [
    "print(\"Train TF-IDF shape:\", X_train_tfidf.shape)\n",
    "print(\"Dev TF-IDF shape:\", X_dev_tfidf.shape)\n",
    "print(\"Test TF-IDF shape:\", X_test_tfidf.shape)"
   ]
  },
  {
   "cell_type": "markdown",
   "id": "8d4fb5b8-42f3-451f-bf48-09ab61fe0aff",
   "metadata": {},
   "source": [
    "#### Save vectorizer & TF-IDF matrix (for training)"
   ]
  },
  {
   "cell_type": "code",
   "execution_count": 7,
   "id": "e6913a4f-7fa9-4bb6-a436-9d9cf99936d5",
   "metadata": {},
   "outputs": [],
   "source": [
    "# Lưu vectorizer\n",
    "joblib.dump(train_df[\"sentiment\"].values, \"D:/Projects/Sentiment_Analysis/models/TF-IDF/y_train.pkl\")\n",
    "joblib.dump(dev_df[\"sentiment\"].values, \"D:/Projects/Sentiment_Analysis/models/TF-IDF/y_dev.pkl\")\n",
    "joblib.dump(test_df[\"sentiment\"].values, \"D:/Projects/Sentiment_Analysis/models/TF-IDF/y_test.pkl\")\n",
    "\n",
    "# Lưu ma trận TF-IDF dạng nén (nếu muốn)\n",
    "scipy.sparse.save_npz(\"D:/Projects/Sentiment_Analysis/data/features/TF_IDF/X_train_tfidf.npz\", X_train_tfidf)\n",
    "scipy.sparse.save_npz(\"D:/Projects/Sentiment_Analysis/data/features/TF_IDF/X_dev_tfidf.npz\", X_dev_tfidf)\n",
    "scipy.sparse.save_npz(\"D:/Projects/Sentiment_Analysis/data/features/TF_IDF/X_test_tfidf.npz\", X_test_tfidf)"
   ]
  },
  {
   "cell_type": "markdown",
   "id": "3b909813-f1ac-4c60-b183-3d178bb67456",
   "metadata": {},
   "source": [
    "1. Lưu **vectorizer** để transform dữ liệu mới mà không fit lại.\n",
    "\n",
    "2. Lưu **ma trận TF-IDF** dạng nén để tái sử dụng khi train/evaluate mô hình, tiết kiệm RAM."
   ]
  }
 ],
 "metadata": {
  "kernelspec": {
   "display_name": "Python (sentiment_env)",
   "language": "python",
   "name": "sentiment_env"
  },
  "language_info": {
   "codemirror_mode": {
    "name": "ipython",
    "version": 3
   },
   "file_extension": ".py",
   "mimetype": "text/x-python",
   "name": "python",
   "nbconvert_exporter": "python",
   "pygments_lexer": "ipython3",
   "version": "3.10.18"
  }
 },
 "nbformat": 4,
 "nbformat_minor": 5
}
