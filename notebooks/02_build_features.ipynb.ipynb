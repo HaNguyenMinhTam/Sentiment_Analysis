{
 "cells": [
  {
   "cell_type": "markdown",
   "id": "ec94c57f-a5d7-49b9-9506-4db545d7d79f",
   "metadata": {},
   "source": [
    "#### Import library and setup notebook"
   ]
  },
  {
   "cell_type": "code",
   "execution_count": 1,
   "id": "414024fe-9173-4621-94f7-026199cb717d",
   "metadata": {},
   "outputs": [],
   "source": [
    "import pandas as pd\n",
    "import re\n",
    "import unicodedata\n",
    "\n",
    "# Show wider options\n",
    "pd.set_option('display.max_colwidth', 150)"
   ]
  },
  {
   "cell_type": "markdown",
   "id": "a1391e08-35e8-42e4-85b7-55bd648f06a3",
   "metadata": {},
   "source": [
    "#### Clean data, standardize Vietnamese (remove accents, stop words)"
   ]
  },
  {
   "cell_type": "markdown",
   "id": "5fda430b-ea46-4cc1-9d5c-983f4d775533",
   "metadata": {},
   "source": [
    "##### Text cleaning function"
   ]
  },
  {
   "cell_type": "code",
   "execution_count": 2,
   "id": "e049bf31-d4bf-4162-9d59-8c81e873e858",
   "metadata": {},
   "outputs": [],
   "source": [
    "def clean_text(text):\n",
    "    text = str(text).lower()\n",
    "    text = unicodedata.normalize('NFC', text) \n",
    "    text = re.sub(r\"http\\S+|www\\S+|https\\S+\", '', text)\n",
    "    text = re.sub(r\"[^0-9a-zA-ZÀ-Ỵà-ỵĐđ\\s]\", ' ', text)\n",
    "    text = re.sub(r\"\\s+\", \" \", text).strip()\n",
    "    return text"
   ]
  },
  {
   "cell_type": "markdown",
   "id": "406894cf-d3cd-45b8-a6ab-c8d8ab8552fb",
   "metadata": {},
   "source": [
    "1. **Chuyển thành chữ thường:** giúp thống nhất dữ liệu (`\"Tốt\"` → `\"tốt\"`).  \n",
    "2. **Xóa liên kết (URL):** loại bỏ các đường dẫn web (`https://...`).  \n",
    "3. **Xóa ký tự đặc biệt:** chỉ giữ lại chữ, số và ký tự tiếng Việt.  \n",
    "4. **Xóa khoảng trắng thừa:** gom nhiều khoảng trắng thành một, xóa đầu/cuối."
   ]
  },
  {
   "cell_type": "markdown",
   "id": "a919be1c-ce90-4dd2-99e3-3ab51c4086cd",
   "metadata": {},
   "source": [
    "##### Remove stopwords function"
   ]
  },
  {
   "cell_type": "code",
   "execution_count": 3,
   "id": "934790d4-d2a9-4eca-8240-7054536a8423",
   "metadata": {},
   "outputs": [],
   "source": [
    "def remove_stopwords(text, stopwords):\n",
    "    words = text.split()  # Split text into list words.\n",
    "    \n",
    "    filtered = [w for w in words if w not in stopwords]  # Filter words that are not stopwords.\n",
    "    \n",
    "    return \" \".join(filtered)  # Concatenate filtered to string"
   ]
  },
  {
   "cell_type": "markdown",
   "id": "86160d61-acd0-4d8e-a681-e5c1679d24e1",
   "metadata": {},
   "source": [
    "1. **Tách câu thành danh sách từ:** (`\"tôi thích uống trà\"` → `[\"tôi\", \"thích\", \"uống\", \"trà\"]`)\n",
    "2. **Lọc bỏ từ dừng:** giữ lại những từ không nằm trong danh sách stopwords.\n",
    "3. **Ghép lại thành chuỗi:** (`[\"thích\", \"uống\", \"trà\"]` → `\"thích uống trà\"`)"
   ]
  },
  {
   "cell_type": "markdown",
   "id": "61dd705b-5a59-4f13-bec0-b59bbf25a17a",
   "metadata": {},
   "source": [
    "##### Download the list of stop words"
   ]
  },
  {
   "cell_type": "code",
   "execution_count": 5,
   "id": "ef9489f3-0f0d-41cb-aeb1-88fc3b59bc83",
   "metadata": {},
   "outputs": [],
   "source": [
    "stopwords = set(open(\"D:/Projects/Sentiment_Analysis/data/external/vietnamese-stopwords.txt\", \"r\", encoding=\"utf-8\").read().splitlines())\n",
    "emotion_words = [\n",
    "    # Negation, degree\n",
    "    \"không\", \"chẳng\", \"chả\", \"chưa\", \"chẳng\", \"đầy\", \"đủ\", \"rất\", \"hơi\", \"khá\", \"cực\", \"quá\",\n",
    "    \"vô cùng\", \"hết sức\", \"cực kỳ\", \"siêu\", \"vô đối\", \"hơi\", \"khá\", \"tương đối\",\n",
    "\n",
    "    # Positive\n",
    "    \"tốt\", \"đẹp\", \"hay\", \"tuyệt\", \"xuất sắc\", \"đỉnh\", \"ổn\", \"vui\", \"ưng\", \"dễ thương\", \"đáng yêu\",\n",
    "    \"mượt\", \"chất lượng\", \"ấn tượng\", \"hiệu quả\", \"thích\", \"hấp dẫn\", \"hoàn hảo\", \"đáng tin\",\n",
    "    \"đáng giá\", \"chuẩn\", \"xịn\", \"tuyệt vời\", \"ổn áp\", \"ngon\", \"ngon lành\", \"ok\", \"oke\",\n",
    "\n",
    "    # Negative\n",
    "    \"tệ\", \"xấu\", \"kém\", \"chán\", \"ghét\", \"bực\", \"dở\", \"tồi\", \"khó chịu\", \"kinh khủng\",\n",
    "    \"thất vọng\", \"chậm\", \"lỗi\", \"rác\", \"ngu\", \"bực mình\", \"quá đáng\", \"bực tức\", \"dở ẹc\",\n",
    "    \"chán đời\", \"kệch cỡm\", \"vô dụng\", \"phiền\", \"tồi tệ\", \"dở dang\"\n",
    "]\n",
    "for w in emotion_words:\n",
    "    stopwords.discard(w)"
   ]
  },
  {
   "cell_type": "markdown",
   "id": "3176d8bc-c411-4532-8672-7fde2c856b6f",
   "metadata": {},
   "source": [
    "#### Read and Process data"
   ]
  },
  {
   "cell_type": "code",
   "execution_count": 6,
   "id": "d34b4bd8-b4d7-47a6-9152-d58a646f8bcb",
   "metadata": {},
   "outputs": [],
   "source": [
    "# Read each episode\n",
    "train_df = pd.read_csv(\"D:/Projects/Sentiment_Analysis/data/interim/train.csv\", encoding=\"utf-8-sig\")\n",
    "test_df  = pd.read_csv(\"D:/Projects/Sentiment_Analysis/data/interim/test.csv\", encoding=\"utf-8-sig\")\n",
    "dev_df   = pd.read_csv(\"D:/Projects/Sentiment_Analysis/data/interim/dev.csv\", encoding=\"utf-8-sig\")\n",
    "\n",
    "# Apply the same handler function to all three\n",
    "for df in [train_df, test_df, dev_df]:\n",
    "    df[\"sentence\"] = df[\"sentence\"].apply(clean_text)\n",
    "    df[\"sentence\"] = df[\"sentence\"].apply(lambda x: remove_stopwords(x, stopwords))\n",
    "\n",
    "# Save\n",
    "train_df.to_csv(\"D:/Projects/Sentiment_Analysis/data/processed/train_clean.csv\", index=False, encoding=\"utf-8-sig\")\n",
    "test_df.to_csv(\"D:/Projects/Sentiment_Analysis/data/processed/test_clean.csv\", index=False, encoding=\"utf-8-sig\")\n",
    "dev_df.to_csv(\"D:/Projects/Sentiment_Analysis/data/processed/dev_clean.csv\", index=False, encoding=\"utf-8-sig\")"
   ]
  }
 ],
 "metadata": {
  "kernelspec": {
   "display_name": "Python (sentiment_env)",
   "language": "python",
   "name": "sentiment_env"
  },
  "language_info": {
   "codemirror_mode": {
    "name": "ipython",
    "version": 3
   },
   "file_extension": ".py",
   "mimetype": "text/x-python",
   "name": "python",
   "nbconvert_exporter": "python",
   "pygments_lexer": "ipython3",
   "version": "3.10.18"
  }
 },
 "nbformat": 4,
 "nbformat_minor": 5
}
